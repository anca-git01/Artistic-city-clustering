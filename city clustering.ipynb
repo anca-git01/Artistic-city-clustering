{
 "cells": [
  {
   "cell_type": "markdown",
   "metadata": {},
   "source": [
    "# Clustering touristic cities from an artistic offer point of view\n",
    "\n",
    "## 1. Introduction \n",
    "I am very passionate about art in various forms : museums, theatre plays, operas, concerts. I really love Paris for its variety of artistic activities it offer. For my future holidays, or even to decide where I could live within some years, I would like to find other cities, worlwide, whose artistic offer is similiar to the one in Paris. \n",
    "Hence, this project is aimed to cluster cities using criteria related to art, and could help other people that already know they like one city in particular because of art exhibitions, museums, concerts, etc, to find other cities alike to that one. It aims to answering the question « Which cities are similiar from an artistic offer point of view ? »\n",
    "\n",
    "## 2. Data\n",
    "In order to answer to the above question « Which cities are similiar from an artistic offer point of view », I will pick the list of the \n",
    "100 most touristic cities worldwide according to this Wikipedia page (https://en.wikipedia.org/wiki/List_of_cities_by_international_visitors). \n",
    "\n",
    "I will then use data from two sources : \n",
    "\n",
    "  - Foursquare : number of museums, art galleries, opera houses, concert halls,  etc for each city in the list.\n",
    "  - Wikipedia (scrapping) (https://en.wikipedia.org/wiki/List_of_world_cities_by_population_density): \n",
    "        o area of each city, in order to define the radius to use to retrieve data from Foursquare;\n",
    "        o the population of each city, in order to make ratios per capita."
   ]
  },
  {
   "cell_type": "code",
   "execution_count": null,
   "metadata": {},
   "outputs": [],
   "source": []
  }
 ],
 "metadata": {
  "kernelspec": {
   "display_name": "Python",
   "language": "python",
   "name": "conda-env-python-py"
  },
  "language_info": {
   "codemirror_mode": {
    "name": "ipython",
    "version": 3
   },
   "file_extension": ".py",
   "mimetype": "text/x-python",
   "name": "python",
   "nbconvert_exporter": "python",
   "pygments_lexer": "ipython3",
   "version": "3.6.11"
  }
 },
 "nbformat": 4,
 "nbformat_minor": 4
}
